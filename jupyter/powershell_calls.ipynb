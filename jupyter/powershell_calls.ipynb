{
 "cells": [
  {
   "cell_type": "markdown",
   "id": "3d85d381",
   "metadata": {},
   "source": [
    "\n",
    "# Calling PowerShell commands\n",
    "\n",
    "First, you have to install the PowerShell kernel as it is explained in the [README.md](./README.md)."
   ]
  },
  {
   "cell_type": "markdown",
   "id": "1d4f14e1",
   "metadata": {},
   "source": [
    "## Useful commands\n",
    "- Working directory:"
   ]
  },
  {
   "cell_type": "code",
   "execution_count": null,
   "id": "0d537c72",
   "metadata": {},
   "outputs": [],
   "source": [
    "pwd"
   ]
  },
  {
   "cell_type": "markdown",
   "id": "8e95f028",
   "metadata": {},
   "source": [
    "- Listing the contents of the folder:"
   ]
  },
  {
   "cell_type": "code",
   "execution_count": null,
   "id": "feeb6891",
   "metadata": {},
   "outputs": [],
   "source": [
    "ls"
   ]
  },
  {
   "cell_type": "markdown",
   "id": "a257834c",
   "metadata": {},
   "source": [
    "- Changing folders:"
   ]
  },
  {
   "cell_type": "code",
   "execution_count": 4,
   "id": "c5f176e2",
   "metadata": {},
   "outputs": [
    {
     "name": "stdout",
     "output_type": "stream",
     "text": []
    }
   ],
   "source": [
    "cd .."
   ]
  },
  {
   "cell_type": "code",
   "execution_count": null,
   "id": "4a671036",
   "metadata": {},
   "outputs": [],
   "source": [
    "cd jupyter"
   ]
  },
  {
   "cell_type": "markdown",
   "id": "c476364d",
   "metadata": {},
   "source": [
    "- Show file content:"
   ]
  },
  {
   "cell_type": "code",
   "execution_count": 15,
   "id": "8f0d5b75",
   "metadata": {},
   "outputs": [
    {
     "name": "stdout",
     "output_type": "stream",
     "text": [
      "program hello_read\n",
      "  implicit none\n",
      "  integer :: i, n\n",
      "\n",
      "  read*, n\n",
      "  do i = 1, n\n",
      "      print*, 'Hello', i\n",
      "  end do\n",
      "end program  \n"
     ]
    }
   ],
   "source": [
    "cat hello_read.f90"
   ]
  },
  {
   "cell_type": "markdown",
   "id": "84f15399",
   "metadata": {},
   "source": [
    "- Unfortunately, in Windows syntax highlighting with `pygmentize -g` does not work (even after `pip install Pygments`):"
   ]
  },
  {
   "cell_type": "code",
   "execution_count": 16,
   "id": "f23867e1",
   "metadata": {},
   "outputs": [
    {
     "name": "stdout",
     "output_type": "stream",
     "text": [
      "program hello_read\n",
      "  implicit none\n",
      "  integer :: i, n\n",
      "\n",
      "  read*, n\n",
      "  do i = 1, n\n",
      "      print*, 'Hello', i\n",
      "  end do\n",
      "end program  \n"
     ]
    }
   ],
   "source": [
    "pygmentize -g hello_read.f90"
   ]
  },
  {
   "cell_type": "markdown",
   "id": "d4ef0a09",
   "metadata": {},
   "source": [
    "- After installing `gfortran` as it is explained in [../README.md](../README.md), it is possible to compile Fortran:"
   ]
  },
  {
   "cell_type": "code",
   "execution_count": 21,
   "id": "1d449044",
   "metadata": {},
   "outputs": [
    {
     "name": "stdout",
     "output_type": "stream",
     "text": []
    }
   ],
   "source": [
    "gfortran -o a.exe hello_read.f90"
   ]
  },
  {
   "cell_type": "markdown",
   "id": "50a17c7f",
   "metadata": {},
   "source": [
    "- The execuction is not interactive. Thus, we must provide data for the standard input:"
   ]
  },
  {
   "cell_type": "code",
   "execution_count": 19,
   "id": "f940544a",
   "metadata": {},
   "outputs": [
    {
     "name": "stdout",
     "output_type": "stream",
     "text": [
      " Hello           1\n",
      " Hello           2\n"
     ]
    }
   ],
   "source": [
    "echo 2 | ./a.exe"
   ]
  },
  {
   "cell_type": "markdown",
   "id": "5c5e419a",
   "metadata": {},
   "source": [
    "Or it can be provided through a data file:"
   ]
  },
  {
   "cell_type": "code",
   "execution_count": 22,
   "id": "39767868",
   "metadata": {},
   "outputs": [
    {
     "name": "stdout",
     "output_type": "stream",
     "text": [
      " Hello           1\n",
      " Hello           2\n"
     ]
    }
   ],
   "source": [
    "echo 2 > data.txt\n",
    "cat data.txt | ./a.exe"
   ]
  },
  {
   "cell_type": "markdown",
   "id": "8a1a5044",
   "metadata": {},
   "source": [
    "PowerShell does not have redirection `<` implemented."
   ]
  },
  {
   "cell_type": "markdown",
   "id": "fac269ae",
   "metadata": {},
   "source": [
    "In case the result is an image, it can be shown in several ways:\n",
    "\n",
    "1. Use an HTML code in a Markdown cell:\n",
    "\n",
    "```html\n",
    "<img src=\"graph.png\">\n",
    "```\n",
    "\n",
    "That shows like this:\n",
    "\n",
    "<img src=\"graph.png\" width=\"400\">\n"
   ]
  },
  {
   "cell_type": "markdown",
   "id": "9414f14f",
   "metadata": {},
   "source": [
    "\n",
    "2. The drawback is that, if the image changes, the latter HTML code does not refresh it. To avoid this, you can use this code that tracks the modification date:\n",
    "\n",
    "```html\n",
    "<img id=\"img\" src=\"graph.png\">\n",
    "<script>\n",
    "  const img = document.getElementById(\"img\");\n",
    "  img.src = \"graph.png?\" + new Date().getTime();\n",
    "</script>\n",
    "```\n"
   ]
  },
  {
   "cell_type": "markdown",
   "id": "119bc966",
   "metadata": {},
   "source": [
    "\n",
    "3. The easiest way is to call the system viewer to open it (in another window):"
   ]
  },
  {
   "cell_type": "code",
   "execution_count": 23,
   "id": "b77cec15",
   "metadata": {},
   "outputs": [
    {
     "name": "stdout",
     "output_type": "stream",
     "text": []
    }
   ],
   "source": [
    "start graph.png"
   ]
  }
 ],
 "metadata": {
  "kernelspec": {
   "display_name": "PowerShell",
   "language": "powershell",
   "name": "powershell"
  },
  "language_info": {
   "codemirror_mode": "shell",
   "file_extension": ".ps1",
   "mimetype": "text/x-sh",
   "name": "powershell"
  }
 },
 "nbformat": 4,
 "nbformat_minor": 5
}
