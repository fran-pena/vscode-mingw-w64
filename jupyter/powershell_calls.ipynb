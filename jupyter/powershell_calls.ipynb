{
 "cells": [
  {
   "cell_type": "markdown",
   "id": "3d85d381",
   "metadata": {},
   "source": [
    "\n",
    "# Métodos Numéricos no Grao en Matemáticas\n",
    "\n",
    "En la fase inicial de aprendizaje, se puede usar un Jupyter Notebook como herramienta docente para:\n",
    "- Mostrar explicaciones con texto enriquecido (ecuaciones) e imágenes.\n",
    "- Mostrar código Fortran.\n",
    "- Compilar y ejecutar.\n",
    "\n",
    "En ese caso, en Vs Code necesitamos una instalación (minimalista) de Python (en Cocalc ya funciona por defecto).\n",
    "\n",
    "## Instalación en Windows\n",
    "\n",
    "- Instalar [Python](https://www.python.org/downloads/).\n",
    "- En una ventana de comandos (CMD),\n",
    "  - `pip install jupyter_client`\n",
    "  - `pip install powershell_kernel`\n",
    "  - `python -m powershell_kernel.install`\n",
    "\n",
    "## Selección del _kernel_\n",
    "- En VS Code, abrir un fichero .ipynb.\n",
    "  - Pulsar en _Select Kernel_ - _Jupyter Kernel_ - _PowerShell_.\n",
    "  \n",
    "- En Cocalc, usar el kernel `bash`."
   ]
  },
  {
   "cell_type": "markdown",
   "id": "1d4f14e1",
   "metadata": {},
   "source": [
    "## Comandos útiles\n",
    "- Carpeta de trabajo:"
   ]
  },
  {
   "cell_type": "code",
   "execution_count": 1,
   "id": "0d537c72",
   "metadata": {
    "vscode": {
     "languageId": "powershell"
    }
   },
   "outputs": [
    {
     "name": "stdout",
     "output_type": "stream",
     "text": [
      "\n",
      "Path                                                                                                                 \n",
      "----                                                                                                                 \n",
      "C:\\Users\\Pena\\OneDrive - Universidade de Santiago de Compostela\\almacen_cloud\\docen\\cursos\\met_num_mat\\fortran\\1_jupy\n",
      "\n",
      "\n"
     ]
    }
   ],
   "source": [
    "pwd"
   ]
  },
  {
   "cell_type": "markdown",
   "id": "8e95f028",
   "metadata": {},
   "source": [
    "- Listado del contenido de la carpeta:"
   ]
  },
  {
   "cell_type": "code",
   "execution_count": 2,
   "id": "feeb6891",
   "metadata": {
    "vscode": {
     "languageId": "powershell"
    }
   },
   "outputs": [
    {
     "name": "stdout",
     "output_type": "stream",
     "text": [
      "\n",
      "\n",
      "    Directorio: C:\\Users\\Pena\\OneDrive - Universidade de Santiago de \n",
      "    Compostela\\almacen_cloud\\docen\\cursos\\met_num_mat\\fortran\\1_jupy\n",
      "\n",
      "\n",
      "Mode                 LastWriteTime         Length Name                                                                 \n",
      "----                 -------------         ------ ----                                                                 \n",
      "-a---l        19/04/2025     20:06          11542 1_jupy.ipynb                                                         \n",
      "-a---l        19/04/2025     13:09            339 condicional.f90                                                      \n",
      "-a---l        19/04/2025     13:32            138 hello_n.f90                                                          \n",
      "\n",
      "\n"
     ]
    }
   ],
   "source": [
    "ls"
   ]
  },
  {
   "cell_type": "markdown",
   "id": "a257834c",
   "metadata": {},
   "source": [
    "- Cambiar de carpeta:"
   ]
  },
  {
   "cell_type": "code",
   "execution_count": 3,
   "id": "c5f176e2",
   "metadata": {
    "vscode": {
     "languageId": "powershell"
    }
   },
   "outputs": [
    {
     "name": "stdout",
     "output_type": "stream",
     "text": [
      "\n",
      "\n",
      "    Directorio: C:\\Users\\Pena\\OneDrive - Universidade de Santiago de \n",
      "    Compostela\\almacen_cloud\\docen\\cursos\\met_num_mat\\fortran\n",
      "\n",
      "\n",
      "Mode                 LastWriteTime         Length Name                                                                 \n",
      "----                 -------------         ------ ----                                                                 \n",
      "da---l        20/04/2025     14:09                0_intro                                                              \n",
      "da---l        19/04/2025     13:34                1_jupy                                                               \n",
      "d----l        20/04/2025     11:33                code_blocks                                                          \n",
      "da---l        18/04/2025     16:19                data                                                                 \n",
      "d----l        18/04/2025     16:15                old                                                                  \n",
      "da---l        19/04/2025     11:44                v0                                                                   \n",
      "\n",
      "\n"
     ]
    }
   ],
   "source": [
    "cd ..\n",
    "ls"
   ]
  },
  {
   "cell_type": "markdown",
   "id": "1b880ad3",
   "metadata": {},
   "source": []
  },
  {
   "cell_type": "code",
   "execution_count": 4,
   "id": "4a671036",
   "metadata": {
    "vscode": {
     "languageId": "powershell"
    }
   },
   "outputs": [
    {
     "name": "stdout",
     "output_type": "stream",
     "text": []
    }
   ],
   "source": [
    "cd 1_jupy"
   ]
  },
  {
   "cell_type": "markdown",
   "id": "3429091f",
   "metadata": {},
   "source": [
    "\n",
    "### Escritura de código Fortran\n",
    "\n",
    "- Lo habitual es crear un fichero .f90 en el IDE (VS Code o Cocalc) y salvar allí el código.\n",
    "\n",
    "- En una presentación basada en Jupyter Notebook, se puede hacer directamente desde una celda.\n",
    "- **No es el enfoque que adoptaremos** porque:\n",
    "  - Es necesario poner el _kernel_ Python para tener _magic commands_ como `%%writefile`.\n",
    "  - Entonces, los comandos PowerShell como `ls` deben reescribirse como `!powershell ls` o usar comandos CMD con `!dir`.\n",
    "  - Ver [skel_day1.ipynb](../0_intro/skel_day1.ipynb).\n",
    "\n",
    "- En su lugar, escribiremos código en ficheros .f90 que mostraremos en el Jupyter Notebook."
   ]
  },
  {
   "cell_type": "markdown",
   "id": "c476364d",
   "metadata": {},
   "source": [
    "### Mostrar código\n",
    "- Se muestra con el comando:"
   ]
  },
  {
   "cell_type": "code",
   "execution_count": 8,
   "id": "8f0d5b75",
   "metadata": {
    "vscode": {
     "languageId": "powershell"
    }
   },
   "outputs": [
    {
     "name": "stdout",
     "output_type": "stream",
     "text": [
      " program hello_n\n",
      "  implicit none\n",
      "  integer :: i, n\n",
      "\n",
      "  print*, 'Introduce un entero:'\n",
      "  read*, n\n",
      "  do i = 1, n\n",
      "      print*, 'Hello', i\n",
      "  end do\n",
      "  \n",
      "  end program\n"
     ]
    }
   ],
   "source": [
    "cat hello_n.f90"
   ]
  },
  {
   "cell_type": "markdown",
   "id": "84f15399",
   "metadata": {},
   "source": [
    "- En Cocal, se puede usar resaltado de color con `pygmentize -g`. En Windows, aún después de `pip install Pygments`, no resalta:"
   ]
  },
  {
   "cell_type": "code",
   "execution_count": 5,
   "id": "f23867e1",
   "metadata": {
    "vscode": {
     "languageId": "powershell"
    }
   },
   "outputs": [
    {
     "name": "stdout",
     "output_type": "stream",
     "text": []
    }
   ],
   "source": [
    "# Ejecutar en Cocalc:\n",
    "#pygmentize -g hello.f90"
   ]
  },
  {
   "cell_type": "markdown",
   "id": "7be7a8fe",
   "metadata": {},
   "source": [
    "## Ejecución de código\n",
    "- Los comandos se pueden escribir:\n",
    "  - Cada uno precedido de `!`.\n",
    "  - Un grupo precedido de `%%cmd` (en Windows) o `%%bash` en Cocalc / Linux.\n",
    "  - Con otras opciones como [`bash_kernel`](https://github.com/takluyver/bash_kernel)."
   ]
  },
  {
   "cell_type": "markdown",
   "id": "d4ef0a09",
   "metadata": {},
   "source": [
    "Esto nos permite compilar el código:"
   ]
  },
  {
   "cell_type": "code",
   "execution_count": 2,
   "id": "1d449044",
   "metadata": {
    "vscode": {
     "languageId": "powershell"
    }
   },
   "outputs": [
    {
     "name": "stdout",
     "output_type": "stream",
     "text": []
    }
   ],
   "source": [
    "gfortran -o a.exe hello_n.f90"
   ]
  },
  {
   "cell_type": "markdown",
   "id": "50a17c7f",
   "metadata": {},
   "source": [
    "La ejecución de un fichero no es interactiva, por lo que debemos prever la entrada de datos en el comando. Se puede hacer directamente:"
   ]
  },
  {
   "cell_type": "code",
   "execution_count": 3,
   "id": "f940544a",
   "metadata": {
    "vscode": {
     "languageId": "powershell"
    }
   },
   "outputs": [
    {
     "name": "stdout",
     "output_type": "stream",
     "text": [
      " Introduce un entero:\n",
      " Hello           1\n",
      " Hello           2\n",
      " Hello           3\n",
      " Hello           4\n",
      " Hello           5\n"
     ]
    }
   ],
   "source": [
    "echo 5 | ./a.exe"
   ]
  },
  {
   "cell_type": "markdown",
   "id": "5c5e419a",
   "metadata": {},
   "source": [
    "O se puede hacer a través de un fichero, escrito previamente con el IDE, en una celda anterior con `%%writefile` o en la misma celda con `echo`:"
   ]
  },
  {
   "cell_type": "code",
   "execution_count": 4,
   "id": "39767868",
   "metadata": {
    "vscode": {
     "languageId": "powershell"
    }
   },
   "outputs": [
    {
     "name": "stdout",
     "output_type": "stream",
     "text": [
      "En l■nea: 3 Car■cter: 9\n",
      "+ ./a.exe < datos.dat\n",
      "+         ~\n",
      "El operador '<' est■ reservado para uso futuro.\n",
      "    + CategoryInfo          : ParserError: (:) [], ParentContainsErrorRecordException\n",
      "    + FullyQualifiedErrorId : RedirectionNotSupported\n",
      " \n"
     ]
    }
   ],
   "source": [
    "echo 4 > datos.dat\n",
    "cat datos.dat | ./a.exe"
   ]
  },
  {
   "cell_type": "markdown",
   "id": "8a1a5044",
   "metadata": {},
   "source": [
    "PowerShell aún no tiene implementado la redirección `<`, lo que resulta irritante. Tampoco creemos que CMD sea la alternativa, pues el resto de comandos serían distintos a Linux."
   ]
  },
  {
   "cell_type": "code",
   "execution_count": null,
   "id": "3f233730",
   "metadata": {
    "vscode": {
     "languageId": "powershell"
    }
   },
   "outputs": [],
   "source": [
    "# Ejecutar solo en Cocalc\n",
    "#./a.exe < datos.dat"
   ]
  },
  {
   "cell_type": "markdown",
   "id": "fac269ae",
   "metadata": {},
   "source": [
    "En caso de que el ejecutable guarde los resultados en una imagen, puede mostrase en una celda Markdown con html:\n",
    "\n",
    "```html\n",
    "<img src=\"grafica.png\" width=\"400\">\n",
    "```\n",
    "\n",
    "El resultado es:\n",
    "\n",
    "<img src=\"grafica.png\" width=\"400\">\n",
    "\n",
    "Esta forma de hacerlo tiene el inconveniente de que, si la imagen cambia, el NB no refresca la imagen a menos que se reinicie el Kernel. Para evitarlo, puede usarse en una celda Markdown este código que rastrea la fecha de modificación:\n",
    "\n",
    "```html\n",
    "<img id=\"img\" src=\"grafica.png\" width=\"400\">\n",
    "<script>\n",
    "  const img = document.getElementById(\"img\");\n",
    "  img.src = \"grafica.png?\" + new Date().getTime();\n",
    "</script>\n",
    "```\n",
    "\n",
    "Otra forma más sencilla es abrir la gráfica con el visor del sistema:"
   ]
  },
  {
   "cell_type": "code",
   "execution_count": 7,
   "id": "5b3ae5d0",
   "metadata": {
    "vscode": {
     "languageId": "powershell"
    }
   },
   "outputs": [
    {
     "name": "stdout",
     "output_type": "stream",
     "text": []
    }
   ],
   "source": [
    "start grafica.png"
   ]
  },
  {
   "cell_type": "markdown",
   "id": "9e16102d",
   "metadata": {},
   "source": [
    "# Ejercicios\n",
    "1. Repetir el ejercicio de la introdución, ahora en un Jupter Notebook, tanto en Cocalc como en VS Code.\n"
   ]
  }
 ],
 "metadata": {
  "kernelspec": {
   "display_name": "Python 3",
   "language": "python",
   "name": "python3"
  },
  "language_info": {
   "codemirror_mode": "shell",
   "file_extension": ".ps1",
   "mimetype": "text/x-sh",
   "name": "python",
   "version": "3.12.5"
  }
 },
 "nbformat": 4,
 "nbformat_minor": 5
}
